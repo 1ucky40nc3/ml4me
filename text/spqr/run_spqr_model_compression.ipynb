{
  "nbformat": 4,
  "nbformat_minor": 0,
  "metadata": {
    "colab": {
      "provenance": [],
      "machine_shape": "hm",
      "gpuType": "A100",
      "authorship_tag": "ABX9TyOcFR6HJyL9z0lbu3WerYXs",
      "include_colab_link": true
    },
    "kernelspec": {
      "name": "python3",
      "display_name": "Python 3"
    },
    "language_info": {
      "name": "python"
    },
    "accelerator": "GPU"
  },
  "cells": [
    {
      "cell_type": "markdown",
      "metadata": {
        "id": "view-in-github",
        "colab_type": "text"
      },
      "source": [
        "<a href=\"https://colab.research.google.com/github/1ucky40nc3/ml4me/blob/main/text/spqr/run_spqr_model_compression.ipynb\" target=\"_parent\"><img src=\"https://colab.research.google.com/assets/colab-badge.svg\" alt=\"Open In Colab\"/></a>"
      ]
    },
    {
      "cell_type": "markdown",
      "source": [
        "# Run SPQR Model Compression"
      ],
      "metadata": {
        "id": "MJowsDJ9Yuzb"
      }
    },
    {
      "cell_type": "markdown",
      "source": [
        "## Set up Your Notebook"
      ],
      "metadata": {
        "id": "CivnjnYYYT4Q"
      }
    },
    {
      "cell_type": "code",
      "source": [
        "!nvidia-smi"
      ],
      "metadata": {
        "id": "kgszNTpV_V3M"
      },
      "execution_count": null,
      "outputs": []
    },
    {
      "cell_type": "code",
      "source": [
        "# @title Install the Dependencies\n",
        "!pip install safetensors==0.3.0\n",
        "!pip install datasets==2.10.1\n",
        "!pip install sentencepiece==0.1.97\n",
        "!pip install torch==1.13.1\n",
        "!pip install numpy==1.22.3\n",
        "!pip install wandb"
      ],
      "metadata": {
        "id": "vnjBWx5X0QPo"
      },
      "execution_count": null,
      "outputs": []
    },
    {
      "cell_type": "code",
      "source": [
        "# @title Install `transformers==4.28.0.dev0`\n",
        "!rm -r /content/transformers\n",
        "!mkdir -p /content/transformers\n",
        "%cd /content/transformers\n",
        "!wget https://github.com/huggingface/transformers/archive/464d420775653885760e30d24d3703e14f4e8a14.zip\n",
        "!unzip 464d420775653885760e30d24d3703e14f4e8a14.zip\n",
        "%cd /content/transformers/transformers-464d420775653885760e30d24d3703e14f4e8a14\n",
        "!pip install -e ."
      ],
      "metadata": {
        "id": "u3ICAsMw5zTT"
      },
      "execution_count": null,
      "outputs": []
    },
    {
      "cell_type": "code",
      "execution_count": null,
      "metadata": {
        "id": "5ZBZqSVN0KBx"
      },
      "outputs": [],
      "source": [
        "# @title Clone the [SPQR Repository](https://github.com/vahe1994/spqr)\n",
        "%cd /content\n",
        "!git clone https://github.com/vahe1994/spqr.git"
      ]
    },
    {
      "cell_type": "code",
      "source": [
        "# @title Download the [`decapoda-research/llama-7b-hf`](https://huggingface.co/decapoda-research/llama-7b-hf) PLM\n",
        "!git lfs install\n",
        "%cd /content\n",
        "!git clone https://huggingface.co/decapoda-research/llama-7b-hf"
      ],
      "metadata": {
        "id": "_sQ-Vle83SJc"
      },
      "execution_count": null,
      "outputs": []
    },
    {
      "cell_type": "markdown",
      "source": [
        "## Run the SPQR Demo"
      ],
      "metadata": {
        "id": "GLilyT8EYmZK"
      }
    },
    {
      "cell_type": "code",
      "source": [
        "MODEL_PATH = \"/content/llama-7b-hf\"\n",
        "PAJAMAS_PATH = \"/content/spqr/data/red_pajama_n=1024.pth\"\n",
        "%cd /content/spqr\n",
        "!python main.py $MODEL_PATH custom \\\n",
        "    --load_from_saved=$PAJAMAS_PATH \\\n",
        "    --wbits 4 \\\n",
        "    --groupsize 16 \\\n",
        "    --perchannel \\\n",
        "    --qq_scale_bits 3 \\\n",
        "    --qq_zero_bits 3 \\\n",
        "    --qq_groupsize 16 \\\n",
        "    --outlier_threshold=0.2 \\\n",
        "    --permutation_order act_order \\\n",
        "    --percdamp 1e0 \\\n",
        "    --nsamples 128 "
      ],
      "metadata": {
        "id": "OHeMwKb348tC"
      },
      "execution_count": null,
      "outputs": []
    }
  ]
}