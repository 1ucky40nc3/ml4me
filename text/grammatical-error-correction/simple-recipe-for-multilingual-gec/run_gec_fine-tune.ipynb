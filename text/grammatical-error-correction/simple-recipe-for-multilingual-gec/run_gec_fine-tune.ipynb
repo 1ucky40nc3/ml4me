{
  "nbformat": 4,
  "nbformat_minor": 0,
  "metadata": {
    "colab": {
      "provenance": [],
      "authorship_tag": "ABX9TyORyTOvpCN6+kTAqb3a/fCx",
      "include_colab_link": true
    },
    "kernelspec": {
      "name": "python3",
      "display_name": "Python 3"
    },
    "language_info": {
      "name": "python"
    },
    "accelerator": "GPU",
    "gpuClass": "standard"
  },
  "cells": [
    {
      "cell_type": "markdown",
      "metadata": {
        "id": "view-in-github",
        "colab_type": "text"
      },
      "source": [
        "<a href=\"https://colab.research.google.com/github/1ucky40nc3/ml4me/blob/main/text/grammatical-error-correction/simple-recipe-for-multilingual-gec/run_gec_fine-tune.ipynb\" target=\"_parent\"><img src=\"https://colab.research.google.com/assets/colab-badge.svg\" alt=\"Open In Colab\"/></a>"
      ]
    },
    {
      "cell_type": "markdown",
      "source": [
        "# MIT License\n",
        "\n",
        "Copyright (c) 2023 Louis Wendler\n",
        "\n",
        "Permission is hereby granted, free of charge, to any person obtaining a copy\n",
        "of this software and associated documentation files (the \"Software\"), to deal\n",
        "in the Software without restriction, including without limitation the rights\n",
        "to use, copy, modify, merge, publish, distribute, sublicense, and/or sell\n",
        "copies of the Software, and to permit persons to whom the Software is\n",
        "furnished to do so, subject to the following conditions:\n",
        "\n",
        "The above copyright notice and this permission notice shall be included in all\n",
        "copies or substantial portions of the Software.\n",
        "\n",
        "THE SOFTWARE IS PROVIDED \"AS IS\", WITHOUT WARRANTY OF ANY KIND, EXPRESS OR\n",
        "IMPLIED, INCLUDING BUT NOT LIMITED TO THE WARRANTIES OF MERCHANTABILITY,\n",
        "FITNESS FOR A PARTICULAR PURPOSE AND NONINFRINGEMENT. IN NO EVENT SHALL THE\n",
        "AUTHORS OR COPYRIGHT HOLDERS BE LIABLE FOR ANY CLAIM, DAMAGES OR OTHER\n",
        "LIABILITY, WHETHER IN AN ACTION OF CONTRACT, TORT OR OTHERWISE, ARISING FROM,\n",
        "OUT OF OR IN CONNECTION WITH THE SOFTWARE OR THE USE OR OTHER DEALINGS IN THE\n",
        "SOFTWARE."
      ],
      "metadata": {
        "id": "lDRzW2epxwUM"
      }
    },
    {
      "cell_type": "markdown",
      "source": [
        "# Set up Notebook"
      ],
      "metadata": {
        "id": "UEUT7Uu5sBXz"
      }
    },
    {
      "cell_type": "code",
      "source": [
        "!nvidia-smi"
      ],
      "metadata": {
        "id": "NCUc32t4nyNb"
      },
      "execution_count": null,
      "outputs": []
    },
    {
      "cell_type": "code",
      "source": [
        "# @title Install Dependencies\n",
        "\n",
        "!pip install pip install git+https://github.com/huggingface/transformers\n",
        "!pip install datasets\n",
        "!pip install evaluate\n",
        "!pip install accelerate\n",
        "!pip install sentencepiece\n",
        "!pip install rouge_score\n",
        "!pip install haikunator"
      ],
      "metadata": {
        "id": "eWW1YWF4sFUh"
      },
      "execution_count": null,
      "outputs": []
    },
    {
      "cell_type": "code",
      "source": [
        "#@title Clone the `huggingface/transformers` Repository\n",
        "\n",
        "!git clone https://github.com/huggingface/transformers.git"
      ],
      "metadata": {
        "id": "kKypCqkNjgV1"
      },
      "execution_count": null,
      "outputs": []
    },
    {
      "cell_type": "markdown",
      "source": [
        "# Prepare data"
      ],
      "metadata": {
        "id": "2JxHAotDSSwV"
      }
    },
    {
      "cell_type": "code",
      "source": [
        "# @title Download the FALKO-MERLIN GEC Corpus\n",
        "\n",
        "!gdown http://www.sfs.uni-tuebingen.de/~adriane/download/wnut2018/data.tar.gz\n",
        "!tar -xf data.tar.gz"
      ],
      "metadata": {
        "id": "NaRNdnA0RV3g"
      },
      "execution_count": null,
      "outputs": []
    },
    {
      "cell_type": "code",
      "source": [
        "from typing import List\n",
        "\n",
        "import os\n",
        "import re\n",
        "import pandas as pd\n",
        "\n",
        "\n",
        "data_files = {\n",
        "    \"train\": [\n",
        "        (\"/content/data/fm-train.src\", \"/content/data/fm-train.trg\"),\n",
        "        # (\"/content/data/wiki.1M.src\", \"/content/data/wiki.1M.trg\")\n",
        "    ],\n",
        "    \"test\": [\n",
        "        (\"/content/data/fm-test.src\", \"/content/data/fm-test.trg\")\n",
        "    ],\n",
        "    \"eval\": [\n",
        "        (\"/content/data/fm-dev.src\", \"/content/data/fm-dev.trg\")\n",
        "    ]\n",
        "}\n",
        "\n",
        "\n",
        "def read_lines(data_file: str) -> List[str]:\n",
        "    with open(data_file, \"r\", encoding=\"utf-8\") as f:\n",
        "        return f.readlines()\n",
        "\n",
        "\n",
        "def delete_char_at_index(string: str, index: int) -> str:\n",
        "    string = list(string)\n",
        "    del string[index]\n",
        "    return \"\".join(string)\n",
        "\n",
        "\n",
        "def clean_whitespace_before(string: str, regex: str = r\"\\s[,;\\.\\:\\!\\?\\)\\]\\}\\/]\") -> str:\n",
        "    pattern = re.compile(regex)\n",
        "    match_object = pattern.search(string)\n",
        "    while match_object is not None:\n",
        "        start, stop = match_object.span()\n",
        "        string = delete_char_at_index(string, start)\n",
        "        match_object = pattern.search(string, pos=stop)\n",
        "\n",
        "    return string\n",
        "\n",
        "\n",
        "def clean_whitespace_after(string: str, regex: str = r\"[\\(\\[\\{\\/]\\s\") -> str:\n",
        "    pattern = re.compile(regex)\n",
        "    match_object = pattern.search(string)\n",
        "    while match_object is not None:\n",
        "        start, stop = match_object.span()\n",
        "        string = delete_char_at_index(string, start + 1)\n",
        "        match_object = pattern.search(string, pos=stop)\n",
        "\n",
        "    return string\n",
        "\n",
        "\n",
        "def clean_whitespace_inside_quotes(string: str) -> str:\n",
        "    single_quotes = r\"'[^']*'\"\n",
        "    double_quotes = r'\"[^\"]*\"'\n",
        "    tokens = '(?:' + '|'.join([single_quotes, double_quotes]) + ')'\n",
        "    pattern = re.compile(tokens, re.DOTALL)\n",
        "\n",
        "    match_object = pattern.search(string)\n",
        "    while match_object is not None:\n",
        "        start, stop = match_object.span()\n",
        "        string_slice = string[start:stop]\n",
        "        cleaned_slice = clean_whitespace_after(string_slice, r\"[\\\"\\']\\s\")\n",
        "        cleaned_slice = clean_whitespace_before(cleaned_slice, r\"\\s[\\\"\\']\")\n",
        "        string = string.replace(string_slice, cleaned_slice, 1)\n",
        "        match_object = pattern.search(string, pos=stop)\n",
        "\n",
        "    return string\n",
        "\n",
        "\n",
        "def clean(string: str) -> str:\n",
        "    string = string.replace('„', '\"')\n",
        "    string = clean_whitespace_after(string)\n",
        "    string = clean_whitespace_before(string)\n",
        "    string = clean_whitespace_inside_quotes(string)\n",
        "    return string\n",
        "\n",
        "\n",
        "for split, src_trg_pairs in data_files.items():\n",
        "    data = {\"source\": [], \"target\": []}\n",
        "    for src_file, trg_file in src_trg_pairs:\n",
        "        src_examples = read_lines(src_file)\n",
        "        trg_examples = read_lines(trg_file)\n",
        "\n",
        "        src_examples = [clean(e) for e in src_examples]\n",
        "        trg_examples = [clean(e) for e in trg_examples]\n",
        "\n",
        "        data[\"source\"].extend(src_examples)\n",
        "        data[\"target\"].extend(trg_examples)\n",
        "\n",
        "\n",
        "    df = pd.DataFrame(data)\n",
        "    df.to_csv(os.path.join(\"/content/data\", f\"fm_{split}.csv\"))"
      ],
      "metadata": {
        "id": "PnzmIn4_u3GL"
      },
      "execution_count": null,
      "outputs": []
    },
    {
      "cell_type": "markdown",
      "source": [
        "# Train!"
      ],
      "metadata": {
        "id": "AeMzvMhcF4Jr"
      }
    },
    {
      "cell_type": "code",
      "source": [
        "#@title Create the local `runs` directory\n",
        "\n",
        "BASE_DIR = \"/content/runs\"\n",
        "!mkdir -p $BASE_DIR"
      ],
      "metadata": {
        "id": "4DlQymcfkCYu"
      },
      "execution_count": null,
      "outputs": []
    },
    {
      "cell_type": "code",
      "source": [
        "#@title Implement util functions\n",
        "\n",
        "import os\n",
        "from haikunator import Haikunator\n",
        "\n",
        "\n",
        "def generate_name():\n",
        "    haikunator = Haikunator()\n",
        "    return haikunator.haikunate()"
      ],
      "metadata": {
        "id": "HdezJZw9kNqT"
      },
      "execution_count": null,
      "outputs": []
    },
    {
      "cell_type": "code",
      "source": [
        "#@title Start a Training Run\n",
        "\n",
        "# Initialize constants\n",
        "RUN_NAME = generate_name()\n",
        "OUTPUT_DIR = os.path.join(BASE_DIR, RUN_NAME)\n",
        "LOGGING_DIR = os.path.join(OUTPUT_DIR, 'logs')\n",
        "!mkdir -p $LOGGING_DIR\n",
        "\n",
        "# Load the local tensorboard\n",
        "%reload_ext tensorboard\n",
        "%tensorboard --logdir $LOGGING_DIR\n",
        "\n",
        "# Start the training script\n",
        "%cd /content/transformers/examples/pytorch/summarization\n",
        "!python run_summarization.py \\\n",
        "    --model_name_or_path google/mt5-small \\\n",
        "    --do_train \\\n",
        "    --do_eval \\\n",
        "    --lang \"de\" \\\n",
        "    --train_file \"/content/data/fm_train.csv\" \\\n",
        "    --validation_file \"/content/data/fm_eval.csv\" \\\n",
        "    --test_file \"/content/data/fm_test.csv\" \\\n",
        "    --text_column \"source\" \\\n",
        "    --summary_column \"target\" \\\n",
        "    --source_prefix \"correct errors: \" \\\n",
        "    --max_source_length 256 \\\n",
        "    --max_target_length 256 \\\n",
        "    --per_device_train_batch_size=4 \\\n",
        "    --auto_find_batch_size \\\n",
        "    --predict_with_generate \\\n",
        "    --output_dir $OUTPUT_DIR \\\n",
        "    --overwrite_output_dir \\\n",
        "    --logging_dir $LOGGING_DIR \\\n",
        "    --report_to tensorboard \\\n",
        "    --run_name $RUN_NAME"
      ],
      "metadata": {
        "id": "VPPFPR6ijpqS"
      },
      "execution_count": null,
      "outputs": []
    },
    {
      "cell_type": "code",
      "source": [],
      "metadata": {
        "id": "9VaCccvImtkC"
      },
      "execution_count": null,
      "outputs": []
    }
  ]
}