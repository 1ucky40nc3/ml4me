{
  "nbformat": 4,
  "nbformat_minor": 0,
  "metadata": {
    "colab": {
      "provenance": [],
      "collapsed_sections": [
        "YNvY8TovA_nc",
        "FRPIuYBTTIHn",
        "v-OY1SRkV7uz"
      ]
    },
    "kernelspec": {
      "name": "python3",
      "display_name": "Python 3"
    },
    "language_info": {
      "name": "python"
    },
    "accelerator": "GPU"
  },
  "cells": [
    {
      "cell_type": "markdown",
      "source": [
        "\n",
        "\n",
        "\n",
        "# NU-Wave 2: A General Neural Audio Upsampling Model for Various Sampling Rates\n",
        "---\n",
        "\n"
      ],
      "metadata": {
        "id": "YNvY8TovA_nc"
      }
    },
    {
      "cell_type": "markdown",
      "source": [
        "## Resources"
      ],
      "metadata": {
        "id": "Z-gI3tb0Bss1"
      }
    },
    {
      "cell_type": "markdown",
      "source": [
        "- 📃 [Paper](https://arxiv.org/abs/2206.08545)\n",
        "- 📚 [Project Page](https://mindslab-ai.github.io/nuwave2)\n",
        "- 🎬 [Examples](https://mindslab-ai.github.io/nuwave2)\n",
        "- 💻 [Code](https://github.com/mindslab-ai/nuwave2)"
      ],
      "metadata": {
        "id": "r-QFQ8Z2B0QW"
      }
    },
    {
      "cell_type": "markdown",
      "source": [
        "## Abstract"
      ],
      "metadata": {
        "id": "kxIgS8WdB4pQ"
      }
    },
    {
      "cell_type": "markdown",
      "source": [
        "[Abstract](https://arxiv.org/pdf/2206.08545.pdf)—*\n",
        "Conventionally, audio super-resolution models fixed the initial\n",
        "and the target sampling rates, which necessitate the model to be\n",
        "trained for each pair of sampling rates. We introduce NU-Wave\n",
        "2, a diffusion model for neural audio upsampling that enables\n",
        "the generation of 48 kHz audio signals from inputs of various\n",
        "sampling rates with a single model. Based on the architecture of NU-Wave, NU-Wave 2 uses short-time Fourier convolution (STFC) to generate harmonics to resolve the main failure\n",
        "modes of NU-Wave, and incorporates bandwidth spectral feature transform (BSFT) to condition the bandwidths of inputs\n",
        "in the frequency domain. We experimentally demonstrate that\n",
        "NU-Wave 2 produces high-resolution audio regardless of the\n",
        "sampling rate of input while requiring fewer parameters than\n",
        "other models. The official code and the audio samples are available at* https://mindslab-ai.github.io/nuwave2\n"
      ],
      "metadata": {
        "id": "XquN7cwJB71R"
      }
    },
    {
      "cell_type": "markdown",
      "source": [
        "## Authors"
      ],
      "metadata": {
        "id": "e0xuVVJzCTa-"
      }
    },
    {
      "cell_type": "markdown",
      "source": [
        "Seungu Han<sup>1,2</sup>,\n",
        "Junhyeok Lee<sup>1</sup>\n",
        "<br>\n",
        "<sup>1</sup>*MINDsLab Inc., Republic of Korea,*<br>\n",
        "<sup>2</sup>*Seoul National University, Republic of Korea*"
      ],
      "metadata": {
        "id": "zlzn77QiCVm2"
      }
    },
    {
      "cell_type": "markdown",
      "source": [
        "## Citation"
      ],
      "metadata": {
        "id": "dsj5eYU9GOuj"
      }
    },
    {
      "cell_type": "markdown",
      "source": [
        "### Plain Text"
      ],
      "metadata": {
        "id": "fm5EA3BNGbV6"
      }
    },
    {
      "cell_type": "markdown",
      "source": [
        "\n",
        "```\n",
        "Han, Seungu, and Junhyeok Lee. \"NU-Wave 2: A General Neural Audio Upsampling Model for Various Sampling Rates.\" arXiv preprint arXiv:2206.08545 (2022).\n",
        "```\n",
        "\n"
      ],
      "metadata": {
        "id": "fiqG3m7jGd5t"
      }
    },
    {
      "cell_type": "markdown",
      "source": [
        "### BibTex"
      ],
      "metadata": {
        "id": "P1Q9b9jdGQbo"
      }
    },
    {
      "cell_type": "markdown",
      "source": [
        "```\n",
        "@misc{https://doi.org/10.48550/arxiv.2206.08545,\n",
        "  doi = {10.48550/ARXIV.2206.08545},\n",
        "  url = {https://arxiv.org/abs/2206.08545, \n",
        "  author = {Han, Seungu and Lee, Junhyeok},\n",
        "  keywords = {Audio and Speech Processing (eess.AS), Machine Learning (cs.LG), FOS: Electrical engineering, electronic engineering, information engineering, FOS: Electrical engineering, electronic engineering, information engineering, FOS: Computer and information sciences, FOS: Computer and information sciences}, \n",
        "  title = {NU-Wave 2: A General Neural Audio Upsampling Model for Various Sampling Rates},\n",
        "  publisher = {arXiv},\n",
        "  year = {2022},\n",
        "  copyright = {arXiv.org perpetual, non-exclusive license}\n",
        "}\n",
        "```\n",
        "\n"
      ],
      "metadata": {
        "id": "tTmEj7wvGVAV"
      }
    },
    {
      "cell_type": "markdown",
      "source": [
        "# Set up the notebook"
      ],
      "metadata": {
        "id": "FRPIuYBTTIHn"
      }
    },
    {
      "cell_type": "code",
      "source": [
        "# @markdown Mount your Google Drive at `/content/gdrive`\n",
        "from google.colab import drive\n",
        "drive.mount('/content/gdrive')"
      ],
      "metadata": {
        "id": "7xCU1KKapaBW"
      },
      "execution_count": null,
      "outputs": []
    },
    {
      "cell_type": "code",
      "execution_count": null,
      "metadata": {
        "id": "62s3o_oAoThi"
      },
      "outputs": [],
      "source": [
        "# @markdown Clone the repository\n",
        "!git clone --recursive https://github.com/mindslab-ai/nuwave2.git\n",
        "%cd nuwave2"
      ]
    },
    {
      "cell_type": "code",
      "source": [
        "# @markdown Install requirements\n",
        "!pip install -r requirements.txt"
      ],
      "metadata": {
        "id": "ku_vBvxDoaJV"
      },
      "execution_count": null,
      "outputs": []
    },
    {
      "cell_type": "markdown",
      "source": [
        "## Prepare the [`VCTK`](https://datashare.ed.ac.uk/handle/10283/3443) dataset"
      ],
      "metadata": {
        "id": "1_QQLIHwTYeZ"
      }
    },
    {
      "cell_type": "markdown",
      "source": [
        "### Download from an official source"
      ],
      "metadata": {
        "id": "4gD8wJnoTud3"
      }
    },
    {
      "cell_type": "code",
      "source": [
        "# @markdown Download the dataset from a official source\n",
        "!wget https://datashare.ed.ac.uk/bitstream/handle/10283/3443/VCTK-Corpus-0.92.zip?sequence=2&isAllowed=y"
      ],
      "metadata": {
        "id": "oRknLj9sowLP"
      },
      "execution_count": null,
      "outputs": []
    },
    {
      "cell_type": "code",
      "source": [
        "# @markdown Copy the dataset to your gdrive\n",
        "!cp VCTK-Corpus-0.92.zip /content/gdrive/MyDrive/datasets"
      ],
      "metadata": {
        "id": "cgbb5_KYIOpv"
      },
      "execution_count": null,
      "outputs": []
    },
    {
      "cell_type": "markdown",
      "source": [
        "### Download from your gdrive"
      ],
      "metadata": {
        "id": "jus_ivdtTxsW"
      }
    },
    {
      "cell_type": "code",
      "source": [
        "!cp /content/gdrive/MyDrive/datasets/VCTK-Corpus-0.92.zip VCTK-Corpus-0.92.zip"
      ],
      "metadata": {
        "id": "6_6m_CCESeUd"
      },
      "execution_count": null,
      "outputs": []
    },
    {
      "cell_type": "code",
      "source": [
        ",#@title 🤗 Signal completion 📣🎶✨\n",
        "\n",
        "from google.colab import output\n",
        "output.eval_js('new Audio(\"https://cdn.pixabay.com/download/audio/2021/08/04/audio_0625c1539c.mp3?filename=success-1-6297.mp3\").play()')"
      ],
      "metadata": {
        "id": "5gTpwcFoplko"
      },
      "execution_count": null,
      "outputs": []
    },
    {
      "cell_type": "markdown",
      "source": [
        "### Prepare the data"
      ],
      "metadata": {
        "id": "yqMNI-LAT4n6"
      }
    },
    {
      "cell_type": "code",
      "source": [
        "vctk_dir = \"vctk\"\n",
        "%env VCTK_DIR=$vctk_dir"
      ],
      "metadata": {
        "id": "ticU5awhVfX6"
      },
      "execution_count": null,
      "outputs": []
    },
    {
      "cell_type": "code",
      "source": [
        "!mkdir -p $vctk_dir\n",
        "!unzip VCTK-Corpus-0.92.zip -d $vctk_dir"
      ],
      "metadata": {
        "id": "aPtJ-oIgpDg0"
      },
      "execution_count": null,
      "outputs": []
    },
    {
      "cell_type": "code",
      "source": [
        "# @markdown Remove the speakers `p280` and `p315`\n",
        "\n",
        "!rm -r $vctk_dir/txt/p280\n",
        "!rm -r $vctk_dir/wav48_silence_trimmed/p280\n",
        "!rm -r $vctk_dir/txt/p315\n",
        "!rm -r $vctk_dir/wav48_silence_trimmed/p315"
      ],
      "metadata": {
        "id": "fFfun3wISz5D"
      },
      "execution_count": null,
      "outputs": []
    },
    {
      "cell_type": "code",
      "source": [
        "# @title ### Modify the config dataset path\n",
        "%%writefile hparameter.yaml\n",
        "\n",
        "train:\n",
        "  batch_size: 12\n",
        "  lr: 2e-4\n",
        "  weight_decay: 0.00\n",
        "  num_workers: 8\n",
        "  gpus: 2 #ddp\n",
        "  opt_eps: 1e-9\n",
        "  beta1: 0.9\n",
        "  beta2: 0.99\n",
        "\n",
        "data:\n",
        "  timestamp_path: 'vctk-silence-labels/vctk-silences.0.92.txt'\n",
        "  base_dir: 'vctk/wav48_silence_trimmed/'\n",
        "  dir: 'vctk/wav48_silence_trimmed_wav/'\n",
        "  format: '*mic1.wav'\n",
        "  cv_ratio: (100./108., 8./108., 0.00) #train/val/test\n",
        "\n",
        "audio:\n",
        "  filter_length: 1024\n",
        "  hop_length: 256\n",
        "  win_length: 1024\n",
        "  sampling_rate: 48000\n",
        "  sr_min: 6000\n",
        "  sr_max: 48000\n",
        "  length: 32768 #32*1024 ~ 1sec\n",
        "\n",
        "arch:\n",
        "  residual_layers: 15 #\n",
        "  residual_channels: 64\n",
        "  pos_emb_dim: 512\n",
        "  bsft_channels: 64\n",
        "\n",
        "logsnr:\n",
        "  logsnr_min: -20.0\n",
        "  logsnr_max: 20.0\n",
        "\n",
        "dpm:\n",
        "  max_step: 1000\n",
        "  pos_emb_scale: 50000\n",
        "  pos_emb_channels: 128 \n",
        "  infer_step: 8\n",
        "  infer_schedule: \"torch.tensor([-2.6, -0.8, 2.0, 6.4, 9.8, 12.9, 14.4, 17.2])\"\n",
        "\n",
        "log:\n",
        "  name: 'nuwave2'\n",
        "  checkpoint_dir: 'checkpoint'\n",
        "  tensorboard_dir: 'tensorboard'\n",
        "  test_result_dir: 'test_sample/result'\n"
      ],
      "metadata": {
        "id": "FeoDPe9KU3zC"
      },
      "execution_count": null,
      "outputs": []
    },
    {
      "cell_type": "code",
      "source": [
        "!python utils/flac2wav.py"
      ],
      "metadata": {
        "id": "VTsAxmroV0ke"
      },
      "execution_count": null,
      "outputs": []
    },
    {
      "cell_type": "markdown",
      "source": [
        "# Train!"
      ],
      "metadata": {
        "id": "v-OY1SRkV7uz"
      }
    },
    {
      "cell_type": "code",
      "source": [
        "# @title Modify the config\n",
        "%%writefile hparameter.yaml\n",
        "\n",
        "train:\n",
        "  batch_size: 6\n",
        "  lr: 2e-4\n",
        "  weight_decay: 0.00\n",
        "  num_workers: 2\n",
        "  gpus: 1 #ddp\n",
        "  opt_eps: 1e-9\n",
        "  beta1: 0.9\n",
        "  beta2: 0.99\n",
        "\n",
        "data:\n",
        "  timestamp_path: 'vctk-silence-labels/vctk-silences.0.92.txt'\n",
        "  base_dir: 'vctk/wav48_silence_trimmed/'\n",
        "  dir: 'vctk/wav48_silence_trimmed_wav/'\n",
        "  format: '*mic1.wav'\n",
        "  cv_ratio: (100./108., 8./108., 0.00) #train/val/test\n",
        "\n",
        "audio:\n",
        "  filter_length: 1024\n",
        "  hop_length: 256\n",
        "  win_length: 1024\n",
        "  sampling_rate: 48000\n",
        "  sr_min: 6000\n",
        "  sr_max: 48000\n",
        "  length: 32768 #32*1024 ~ 1sec\n",
        "\n",
        "arch:\n",
        "  residual_layers: 15 #\n",
        "  residual_channels: 64\n",
        "  pos_emb_dim: 512\n",
        "  bsft_channels: 64\n",
        "\n",
        "logsnr:\n",
        "  logsnr_min: -20.0\n",
        "  logsnr_max: 20.0\n",
        "\n",
        "dpm:\n",
        "  max_step: 1000\n",
        "  pos_emb_scale: 50000\n",
        "  pos_emb_channels: 128 \n",
        "  infer_step: 8\n",
        "  infer_schedule: \"torch.tensor([-2.6, -0.8, 2.0, 6.4, 9.8, 12.9, 14.4, 17.2])\"\n",
        "\n",
        "log:\n",
        "  name: 'nuwave2'\n",
        "  checkpoint_dir: 'checkpoint'\n",
        "  tensorboard_dir: 'tensorboard'\n",
        "  test_result_dir: 'test_sample/result'\n"
      ],
      "metadata": {
        "id": "E4MKyrn6WTeM"
      },
      "execution_count": null,
      "outputs": []
    },
    {
      "cell_type": "code",
      "source": [
        "# @markdown Start a `TensorBoard`\n",
        "%load_ext tensorboard\n",
        "%tensorboard --logdir=./tensorboard --bind_all"
      ],
      "metadata": {
        "id": "t0Hp1S8WW4eS"
      },
      "execution_count": null,
      "outputs": []
    },
    {
      "cell_type": "code",
      "source": [
        "!python trainer.py"
      ],
      "metadata": {
        "id": "VdDiZdEdWdQ9"
      },
      "execution_count": null,
      "outputs": []
    },
    {
      "cell_type": "code",
      "source": [
        "!pip install torch==1.10.0+cu111 torchvision==0.11.0+cu111 torchaudio==0.10.0 -f https://download.pytorch.org/whl/torch_stable.html\n",
        "!pip install torchtext==0.11.0"
      ],
      "metadata": {
        "id": "WTD8ZHiWX0pT"
      },
      "execution_count": null,
      "outputs": []
    },
    {
      "cell_type": "code",
      "source": [],
      "metadata": {
        "id": "Xssu1-BuX2w3"
      },
      "execution_count": null,
      "outputs": []
    }
  ]
}