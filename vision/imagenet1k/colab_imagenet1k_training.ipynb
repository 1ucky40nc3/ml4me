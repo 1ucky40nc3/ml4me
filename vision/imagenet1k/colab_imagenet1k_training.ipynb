{
  "cells": [
    {
      "cell_type": "markdown",
      "metadata": {
        "id": "hE8K9YsxeywN"
      },
      "source": [
        "# Training on Imagenet 1k in Google Colaboratory\n",
        "---"
      ]
    },
    {
      "cell_type": "markdown",
      "metadata": {
        "id": "xmYasG2Ie7nj"
      },
      "source": [
        "# Set up the notebook"
      ]
    },
    {
      "cell_type": "markdown",
      "metadata": {
        "id": "PY35CZD_fHSH"
      },
      "source": [
        "### Clone a fork of the `transformers` repository"
      ]
    },
    {
      "cell_type": "code",
      "execution_count": null,
      "metadata": {
        "id": "6R-mzQrxLNnC"
      },
      "outputs": [],
      "source": [
        "!git clone https://github.com/1ucky40nc3/transformers.git\n",
        "%cd transformers\n",
        "\n",
        "!git reset --hard e4421cbf38f78af80d2797e7e8f8dba6310baa8e"
      ]
    },
    {
      "cell_type": "markdown",
      "metadata": {
        "id": "iOMDDHm6fCfE"
      },
      "source": [
        "### Install dependencies"
      ]
    },
    {
      "cell_type": "code",
      "execution_count": null,
      "metadata": {
        "id": "L9MjMAFdK__S"
      },
      "outputs": [],
      "source": [
        "!pip install .\n",
        "!pip install datasets==2.4.0\n",
        "!pip install evaluate==0.2.2\n",
        "!pip install wandb==0.13.3"
      ]
    },
    {
      "cell_type": "markdown",
      "metadata": {
        "id": "yw8S-fsUfNwm"
      },
      "source": [
        "### Provide authentication to relevant services"
      ]
    },
    {
      "cell_type": "code",
      "execution_count": null,
      "metadata": {
        "id": "5A006ao_LPyZ"
      },
      "outputs": [],
      "source": [
        "!huggingface-cli login"
      ]
    },
    {
      "cell_type": "code",
      "execution_count": null,
      "metadata": {
        "id": "Yl-KeM3OfdK1"
      },
      "outputs": [],
      "source": [
        "!wandb login"
      ]
    },
    {
      "cell_type": "markdown",
      "metadata": {
        "id": "F4Dt009affC8"
      },
      "source": [
        "## Train!"
      ]
    },
    {
      "cell_type": "code",
      "execution_count": null,
      "metadata": {
        "id": "rFbGoCf-LSN1"
      },
      "outputs": [],
      "source": [
        "%cd /content/transformers/examples/pytorch\n",
        "!python image-classification/run_image_classification.py \\\n",
        "    --model_name_or_path facebook/convnext-tiny-224 \\\n",
        "    --dataset_name imagenet-1k \\\n",
        "    --use_auth_token True \\\n",
        "    --stream_dataset True \\\n",
        "    --output_dir ./outputs/ \\\n",
        "    --overwrite_output_dir \\\n",
        "    --remove_unused_columns False \\\n",
        "    --do_train \\\n",
        "    --do_eval \\\n",
        "    --learning_rate 2e-5 \\\n",
        "    --num_train_epochs 5 \\\n",
        "    --max_steps 100000 \\\n",
        "    --per_device_train_batch_size 4 \\\n",
        "    --per_device_eval_batch_size 4 \\\n",
        "    --logging_strategy steps \\\n",
        "    --logging_steps 10 \\\n",
        "    --evaluation_strategy epoch \\\n",
        "    --report_to wandb \\\n",
        "    --save_strategy epoch \\\n",
        "    --load_best_model_at_end True \\\n",
        "    --save_total_limit 3 \\\n",
        "    --seed 42"
      ]
    }
  ],
  "metadata": {
    "accelerator": "GPU",
    "colab": {
      "collapsed_sections": [],
      "provenance": []
    },
    "kernelspec": {
      "display_name": "Python 3.8.0 64-bit",
      "language": "python",
      "name": "python3"
    },
    "language_info": {
      "name": "python",
      "version": "3.8.0"
    },
    "vscode": {
      "interpreter": {
        "hash": "89a17144586464b8ad29eb738f315503f40ccf5acd27c4498b60cfa1b9f49e6c"
      }
    }
  },
  "nbformat": 4,
  "nbformat_minor": 0
}
