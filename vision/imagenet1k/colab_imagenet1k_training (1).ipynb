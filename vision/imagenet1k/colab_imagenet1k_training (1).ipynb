{
  "nbformat": 4,
  "nbformat_minor": 0,
  "metadata": {
    "colab": {
      "provenance": [],
      "collapsed_sections": []
    },
    "kernelspec": {
      "name": "python3",
      "display_name": "Python 3"
    },
    "language_info": {
      "name": "python"
    },
    "accelerator": "GPU"
  },
  "cells": [
    {
      "cell_type": "markdown",
      "source": [
        "# Training on Imagenet 1k in Google Colaboratory\n",
        "---"
      ],
      "metadata": {
        "id": "hE8K9YsxeywN"
      }
    },
    {
      "cell_type": "markdown",
      "source": [
        "# Set up the notebook"
      ],
      "metadata": {
        "id": "xmYasG2Ie7nj"
      }
    },
    {
      "cell_type": "markdown",
      "source": [
        "### Clone a fork of the `transformers` repository"
      ],
      "metadata": {
        "id": "PY35CZD_fHSH"
      }
    },
    {
      "cell_type": "code",
      "source": [
        "!git clone https://github.com/1ucky40nc3/transformers.git\n",
        "%cd transformers\n",
        "\n",
        "!git reset --hard e4421cbf38f78af80d2797e7e8f8dba6310baa8e"
      ],
      "metadata": {
        "id": "6R-mzQrxLNnC"
      },
      "execution_count": null,
      "outputs": []
    },
    {
      "cell_type": "markdown",
      "source": [
        "### Install dependencies"
      ],
      "metadata": {
        "id": "iOMDDHm6fCfE"
      }
    },
    {
      "cell_type": "code",
      "execution_count": null,
      "metadata": {
        "id": "L9MjMAFdK__S"
      },
      "outputs": [],
      "source": [
        "!pip install .\n",
        "!pip install datasets==2.4.0\n",
        "!pip install evaluate==0.2.2\n",
        "!pip install wandb==0.13.3"
      ]
    },
    {
      "cell_type": "markdown",
      "source": [
        "### Provide authentication to relevant services"
      ],
      "metadata": {
        "id": "yw8S-fsUfNwm"
      }
    },
    {
      "cell_type": "code",
      "source": [
        "!huggingface-cli login"
      ],
      "metadata": {
        "id": "5A006ao_LPyZ"
      },
      "execution_count": null,
      "outputs": []
    },
    {
      "cell_type": "code",
      "source": [
        "!wandb login"
      ],
      "metadata": {
        "id": "Yl-KeM3OfdK1"
      },
      "execution_count": null,
      "outputs": []
    },
    {
      "cell_type": "markdown",
      "source": [
        "## Train!"
      ],
      "metadata": {
        "id": "F4Dt009affC8"
      }
    },
    {
      "cell_type": "code",
      "source": [
        "%cd /content/transformers/examples/pytorch\n",
        "!python image-classification/run_image_classification.py \\\n",
        "    --model_name_or_path facebook/convnext-tiny-224 \\\n",
        "    --dataset_name imagenet-1k \\\n",
        "    --use_auth_token True \\\n",
        "    --stream_dataset True \\\n",
        "    --output_dir ./outputs/ \\\n",
        "    --overwrite_output_dir \\\n",
        "    --remove_unused_columns False \\\n",
        "    --do_train \\\n",
        "    --do_eval \\\n",
        "    --learning_rate 2e-5 \\\n",
        "    --num_train_epochs 5 \\\n",
        "    --max_steps 100000 \\\n",
        "    --per_device_train_batch_size 4 \\\n",
        "    --per_device_eval_batch_size 4 \\\n",
        "    --logging_strategy steps \\\n",
        "    --logging_steps 10 \\\n",
        "    --evaluation_strategy epoch \\\n",
        "    --report_to wandb \\\n",
        "    --save_strategy epoch \\\n",
        "    --load_best_model_at_end True \\\n",
        "    --save_total_limit 3 \\\n",
        "    --seed 42"
      ],
      "metadata": {
        "id": "rFbGoCf-LSN1"
      },
      "execution_count": null,
      "outputs": []
    }
  ]
}