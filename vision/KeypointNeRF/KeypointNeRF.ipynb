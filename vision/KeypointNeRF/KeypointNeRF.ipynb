{
  "nbformat": 4,
  "nbformat_minor": 0,
  "metadata": {
    "colab": {
      "provenance": [],
      "authorship_tag": "ABX9TyMf9VLFMvbvOyt/zeLc/AIS",
      "include_colab_link": true
    },
    "kernelspec": {
      "name": "python3",
      "display_name": "Python 3"
    },
    "language_info": {
      "name": "python"
    }
  },
  "cells": [
    {
      "cell_type": "markdown",
      "metadata": {
        "id": "view-in-github",
        "colab_type": "text"
      },
      "source": [
        "<a href=\"https://colab.research.google.com/github/1ucky40nc3/ml4me/blob/main/vision/KeypointNeRF/KeypointNeRF.ipynb\" target=\"_parent\"><img src=\"https://colab.research.google.com/assets/colab-badge.svg\" alt=\"Open In Colab\"/></a>"
      ]
    },
    {
      "cell_type": "code",
      "execution_count": null,
      "metadata": {
        "id": "TZ-5lyngcmV5"
      },
      "outputs": [],
      "source": [
        "!git clone https://github.com/facebookresearch/KeypointNeRF.git\n",
        "%cd KeypointNeRF"
      ]
    },
    {
      "cell_type": "code",
      "source": [
        "!pip install pytorch-lightning\n",
        "!pip install torchmetrics"
      ],
      "metadata": {
        "id": "VFf2To4ecwfT"
      },
      "execution_count": null,
      "outputs": []
    },
    {
      "cell_type": "code",
      "source": [
        "from google.colab import drive\n",
        "drive.mount('/content/gdrive')"
      ],
      "metadata": {
        "id": "SL72Q8G1dAVh"
      },
      "execution_count": null,
      "outputs": []
    },
    {
      "cell_type": "code",
      "source": [
        "!cp -r /content/gdrive/MyDrive/datasets/Animatable_NeRF_TPAMI/datasets/ ."
      ],
      "metadata": {
        "id": "vypmeAYxoRGI"
      },
      "execution_count": null,
      "outputs": []
    },
    {
      "cell_type": "code",
      "source": [
        "!mkdir -p data/zju_mocap"
      ],
      "metadata": {
        "id": "53XhqbMidK1s"
      },
      "execution_count": null,
      "outputs": []
    },
    {
      "cell_type": "code",
      "source": [
        "!tar -xvf /content/datasets/zjumocap-public/CoreView_313.tar.gz -C data/zju_mocap\n",
        "!tar -xvf /content/datasets/zjumocap-public/CoreView_315.tar.gz -C data/zju_mocap\n",
        "!tar -xvf /content/datasets/zjumocap-public/CoreView_377.tar.gz -C data/zju_mocap\n",
        "!tar -xvf /content/datasets/zjumocap-public/CoreView_386.tar.gz -C data/zju_mocap\n",
        "!tar -xvf /content/datasets/zjumocap-public/CoreView_387.tar.gz -C data/zju_mocap\n",
        "!tar -xvf /content/datasets/zjumocap-public/CoreView_390.tar.gz -C data/zju_mocap\n",
        "!tar -xvf /content/datasets/zjumocap-public/CoreView_392.tar.gz -C data/zju_mocap\n",
        "!tar -xvf /content/datasets/zjumocap-public/CoreView_393.tar.gz -C data/zju_mocap\n",
        "!tar -xvf /content/datasets/zjumocap-public/CoreView_394.tar.gz -C data/zju_mocap"
      ],
      "metadata": {
        "id": "sVtUuVSTox_c"
      },
      "execution_count": null,
      "outputs": []
    },
    {
      "cell_type": "code",
      "source": [
        "!unzip /content/datasets/zjumocap-public/zju_joints3d.zip -d ."
      ],
      "metadata": {
        "id": "2asF1BudqudP"
      },
      "execution_count": null,
      "outputs": []
    },
    {
      "cell_type": "code",
      "source": [
        "!cp -r ./zju_joints3d/* ./data/zju_mocap/"
      ],
      "metadata": {
        "id": "7FxuKd3zqVGI"
      },
      "execution_count": null,
      "outputs": []
    },
    {
      "cell_type": "code",
      "source": [
        "!python preprocess/rename_zju.py --data_dir ./data/zju_mocap"
      ],
      "metadata": {
        "id": "wWo93hwHtjp2"
      },
      "execution_count": null,
      "outputs": []
    },
    {
      "cell_type": "code",
      "source": [
        "!python train.py --config ./configs/zju.json --data_root ./data/zju_mocap"
      ],
      "metadata": {
        "id": "sywlIqWhtyMV"
      },
      "execution_count": null,
      "outputs": []
    }
  ]
}